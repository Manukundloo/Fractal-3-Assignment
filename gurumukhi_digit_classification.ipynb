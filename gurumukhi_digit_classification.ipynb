{
  "nbformat": 4,
  "nbformat_minor": 0,
  "metadata": {
    "colab": {
      "provenance": []
    },
    "kernelspec": {
      "name": "python3",
      "display_name": "Python 3"
    },
    "language_info": {
      "name": "python"
    }
  },
  "cells": [
    {
      "cell_type": "code",
      "execution_count": 1,
      "metadata": {
        "id": "ATyGE9LKcYBB"
      },
      "outputs": [],
      "source": [
        "import numpy as np\n",
        "import tensorflow as tf\n",
        "from tensorflow import keras\n",
        "import pandas as pd\n",
        "from matplotlib import pyplot as plt\n",
        "%matplotlib inline"
      ]
    },
    {
      "cell_type": "code",
      "source": [
        "from google.colab import drive\n",
        "drive.mount('/content/gdrive')"
      ],
      "metadata": {
        "colab": {
          "base_uri": "https://localhost:8080/"
        },
        "id": "gYFMsspmhFf3",
        "outputId": "f440505e-5f6e-48ad-df2c-ecfaebb3c830"
      },
      "execution_count": 2,
      "outputs": [
        {
          "output_type": "stream",
          "name": "stdout",
          "text": [
            "Mounted at /content/gdrive\n"
          ]
        }
      ]
    },
    {
      "cell_type": "code",
      "source": [
        "!unzip gdrive/My\\ Drive/Data/train.zip > /dev/null"
      ],
      "metadata": {
        "id": "z7oF9TN7hW_V"
      },
      "execution_count": 3,
      "outputs": []
    },
    {
      "cell_type": "code",
      "source": [
        "import os\n",
        "path = \"/content/train/\"\n",
        "files = os.listdir(path)\n",
        "files = [f for f in os.listdir(path) if not f.startswith('.')]\n",
        "print(files)\n",
        "\n",
        "classes = {files[i]: int(files[i]) for i in range(0, 10)}\n",
        "\n",
        "print(classes)"
      ],
      "metadata": {
        "colab": {
          "base_uri": "https://localhost:8080/"
        },
        "id": "HeKu9PqEciWe",
        "outputId": "85515871-6c50-433f-cb67-75c035c922b6"
      },
      "execution_count": 4,
      "outputs": [
        {
          "output_type": "stream",
          "name": "stdout",
          "text": [
            "['0', '1', '6', '7', '8', '5', '3', '9', '4', '2']\n",
            "{'0': 0, '1': 1, '6': 6, '7': 7, '8': 8, '5': 5, '3': 3, '9': 9, '4': 4, '2': 2}\n"
          ]
        }
      ]
    },
    {
      "cell_type": "code",
      "source": [
        "import cv2"
      ],
      "metadata": {
        "id": "lQgehMOPck_F"
      },
      "execution_count": 5,
      "outputs": []
    },
    {
      "cell_type": "code",
      "source": [
        "X = []\n",
        "Y = []\n",
        "\n",
        "for cl in classes:\n",
        "    pth=path+cl\n",
        "#    print(pth)\n",
        "    for img_name in os.listdir(pth):\n",
        "#        print(img_name)\n",
        "        img = cv2.imread(pth+\"/\"+img_name,0)\n",
        "#        print(img)\n",
        "        X.append(img)\n",
        "        Y.append(cl)\n",
        "print('dataset created')"
      ],
      "metadata": {
        "colab": {
          "base_uri": "https://localhost:8080/"
        },
        "id": "c9fQuIG1co6u",
        "outputId": "f135dde3-478e-46b9-e486-aa78e5f15375"
      },
      "execution_count": 6,
      "outputs": [
        {
          "output_type": "stream",
          "name": "stdout",
          "text": [
            "dataset created\n"
          ]
        }
      ]
    },
    {
      "cell_type": "code",
      "source": [
        "pd.Series(Y).value_counts()"
      ],
      "metadata": {
        "colab": {
          "base_uri": "https://localhost:8080/"
        },
        "id": "kTf-jwWMcrGu",
        "outputId": "d9246162-e2fb-4080-f8f2-8d8bf1da7137"
      },
      "execution_count": 7,
      "outputs": [
        {
          "output_type": "execute_result",
          "data": {
            "text/plain": [
              "0    100\n",
              "1    100\n",
              "6    100\n",
              "7    100\n",
              "8    100\n",
              "5    100\n",
              "3    100\n",
              "9    100\n",
              "4    100\n",
              "2    100\n",
              "dtype: int64"
            ]
          },
          "metadata": {},
          "execution_count": 7
        }
      ]
    },
    {
      "cell_type": "code",
      "source": [
        "print(type(X))\n",
        "X = np.array(X)\n",
        "Y = np.array(Y)\n",
        "print(type(X))\n",
        "X.shape"
      ],
      "metadata": {
        "colab": {
          "base_uri": "https://localhost:8080/"
        },
        "id": "n6SCA2VBct7-",
        "outputId": "3a921275-3be1-400a-b31d-89866a0cd88c"
      },
      "execution_count": 8,
      "outputs": [
        {
          "output_type": "stream",
          "name": "stdout",
          "text": [
            "<class 'list'>\n",
            "<class 'numpy.ndarray'>\n"
          ]
        },
        {
          "output_type": "execute_result",
          "data": {
            "text/plain": [
              "(1000, 32, 32)"
            ]
          },
          "metadata": {},
          "execution_count": 8
        }
      ]
    },
    {
      "cell_type": "code",
      "source": [
        "plt.matshow(X[700])\n",
        "print('actual number',Y[700])"
      ],
      "metadata": {
        "colab": {
          "base_uri": "https://localhost:8080/",
          "height": 455
        },
        "id": "LyGxb99NcygY",
        "outputId": "a4799698-0866-4e91-dffc-150be3c7b438"
      },
      "execution_count": 9,
      "outputs": [
        {
          "output_type": "stream",
          "name": "stdout",
          "text": [
            "actual number 9\n"
          ]
        },
        {
          "output_type": "display_data",
          "data": {
            "text/plain": [
              "<Figure size 480x480 with 1 Axes>"
            ],
            "image/png": "[encoded data removed]"
          },
          "metadata": {}
        }
      ]
    },
    {
      "cell_type": "code",
      "source": [
        "from sklearn.model_selection import train_test_split\n",
        "\n",
        "X_train, X_test, y_train, y_test = train_test_split(X, Y, test_size=0.2, random_state=42)"
      ],
      "metadata": {
        "id": "DfPfWrpSc9Jp"
      },
      "execution_count": 10,
      "outputs": []
    },
    {
      "cell_type": "code",
      "source": [
        "len(X_test)"
      ],
      "metadata": {
        "colab": {
          "base_uri": "https://localhost:8080/"
        },
        "id": "GZTwdSg7dDgk",
        "outputId": "af24168e-c827-4500-ea05-0f4788a6c0d8"
      },
      "execution_count": 11,
      "outputs": [
        {
          "output_type": "execute_result",
          "data": {
            "text/plain": [
              "200"
            ]
          },
          "metadata": {},
          "execution_count": 11
        }
      ]
    },
    {
      "cell_type": "code",
      "source": [
        "len(X_train)"
      ],
      "metadata": {
        "colab": {
          "base_uri": "https://localhost:8080/"
        },
        "id": "qgrjkaCldFvH",
        "outputId": "57574737-372e-4751-ac54-92e6807473a5"
      },
      "execution_count": 12,
      "outputs": [
        {
          "output_type": "execute_result",
          "data": {
            "text/plain": [
              "800"
            ]
          },
          "metadata": {},
          "execution_count": 12
        }
      ]
    },
    {
      "cell_type": "code",
      "source": [
        "X_train[0].shape"
      ],
      "metadata": {
        "colab": {
          "base_uri": "https://localhost:8080/"
        },
        "id": "Ul3un4xqdHe0",
        "outputId": "ebae171d-d959-43f5-89d0-b63983c42eba"
      },
      "execution_count": 13,
      "outputs": [
        {
          "output_type": "execute_result",
          "data": {
            "text/plain": [
              "(32, 32)"
            ]
          },
          "metadata": {},
          "execution_count": 13
        }
      ]
    },
    {
      "cell_type": "code",
      "source": [
        "X_train[0]"
      ],
      "metadata": {
        "colab": {
          "base_uri": "https://localhost:8080/"
        },
        "id": "xsjpNLIxdI8J",
        "outputId": "ca2412e5-2367-42ad-abd7-bb70b7f563bc"
      },
      "execution_count": 14,
      "outputs": [
        {
          "output_type": "execute_result",
          "data": {
            "text/plain": [
              "array([[255, 255, 255, ..., 255, 255, 255],\n",
              "       [255, 255, 255, ..., 255, 255, 255],\n",
              "       [255, 255, 255, ..., 255, 255, 255],\n",
              "       ...,\n",
              "       [255, 255, 255, ..., 255, 255, 255],\n",
              "       [255, 255, 255, ..., 255, 255, 255],\n",
              "       [255, 255, 255, ..., 255, 255, 255]], dtype=uint8)"
            ]
          },
          "metadata": {},
          "execution_count": 14
        }
      ]
    },
    {
      "cell_type": "code",
      "source": [
        "plt.matshow(X_train[6])"
      ],
      "metadata": {
        "colab": {
          "base_uri": "https://localhost:8080/",
          "height": 455
        },
        "id": "71dvNaVtdMo2",
        "outputId": "9cdae566-e2e8-4032-8151-f69778b979ad"
      },
      "execution_count": 15,
      "outputs": [
        {
          "output_type": "execute_result",
          "data": {
            "text/plain": [
              "<matplotlib.image.AxesImage at 0x7f167614eaa0>"
            ]
          },
          "metadata": {},
          "execution_count": 15
        },
        {
          "output_type": "display_data",
          "data": {
            "text/plain": [
              "<Figure size 480x480 with 1 Axes>"
            ],
            "image/png": "[encoded data removed]"
          },
          "metadata": {}
        }
      ]
    },
    {
      "cell_type": "code",
      "source": [
        "y_train[:7]"
      ],
      "metadata": {
        "colab": {
          "base_uri": "https://localhost:8080/"
        },
        "id": "9x8AoWDDdOfy",
        "outputId": "944cee23-d8d6-4c6e-8c99-760f187fe454"
      },
      "execution_count": 16,
      "outputs": [
        {
          "output_type": "execute_result",
          "data": {
            "text/plain": [
              "array(['0', '5', '3', '5', '4', '5', '1'], dtype='<U1')"
            ]
          },
          "metadata": {},
          "execution_count": 16
        }
      ]
    },
    {
      "cell_type": "markdown",
      "source": [
        "# Scaling is done below but without scaling also it is running well."
      ],
      "metadata": {
        "id": "gaKT8vg2dXT2"
      }
    },
    {
      "cell_type": "code",
      "source": [
        "X_train=X_train/255\n",
        "X_test=X_test/255"
      ],
      "metadata": {
        "id": "ecdPbBtmdSeH"
      },
      "execution_count": 17,
      "outputs": []
    },
    {
      "cell_type": "code",
      "source": [
        "X_train[0]"
      ],
      "metadata": {
        "colab": {
          "base_uri": "https://localhost:8080/"
        },
        "id": "K1vV8DZUdbDJ",
        "outputId": "22d9f521-f279-4b4a-a924-7cb08c5500c8"
      },
      "execution_count": 18,
      "outputs": [
        {
          "output_type": "execute_result",
          "data": {
            "text/plain": [
              "array([[1., 1., 1., ..., 1., 1., 1.],\n",
              "       [1., 1., 1., ..., 1., 1., 1.],\n",
              "       [1., 1., 1., ..., 1., 1., 1.],\n",
              "       ...,\n",
              "       [1., 1., 1., ..., 1., 1., 1.],\n",
              "       [1., 1., 1., ..., 1., 1., 1.],\n",
              "       [1., 1., 1., ..., 1., 1., 1.]])"
            ]
          },
          "metadata": {},
          "execution_count": 18
        }
      ]
    },
    {
      "cell_type": "code",
      "source": [
        "X_train_flattened=X_train.reshape(len(X_train),32*32)\n",
        "X_test_flattened=X_test.reshape(len(X_test),32*32)\n",
        "X_test_flattened.shape"
      ],
      "metadata": {
        "colab": {
          "base_uri": "https://localhost:8080/"
        },
        "id": "MA1ZJL48ddu4",
        "outputId": "460ceef5-b323-4a77-e25f-c908201312d6"
      },
      "execution_count": 19,
      "outputs": [
        {
          "output_type": "execute_result",
          "data": {
            "text/plain": [
              "(200, 1024)"
            ]
          },
          "metadata": {},
          "execution_count": 19
        }
      ]
    },
    {
      "cell_type": "code",
      "source": [
        "X_train_flattened.shape"
      ],
      "metadata": {
        "colab": {
          "base_uri": "https://localhost:8080/"
        },
        "id": "1ejvyo7kdfcJ",
        "outputId": "05a70703-805c-48eb-c14c-c422434caab7"
      },
      "execution_count": 20,
      "outputs": [
        {
          "output_type": "execute_result",
          "data": {
            "text/plain": [
              "(800, 1024)"
            ]
          },
          "metadata": {},
          "execution_count": 20
        }
      ]
    },
    {
      "cell_type": "code",
      "source": [
        "y_train = np.array(y_train)\n",
        "\n",
        "y_train = y_train.astype(int)\n",
        "y_train"
      ],
      "metadata": {
        "colab": {
          "base_uri": "https://localhost:8080/"
        },
        "id": "Dcjq5yB7dhCh",
        "outputId": "8417bad5-1e82-4171-a150-23db633a59d7"
      },
      "execution_count": 21,
      "outputs": [
        {
          "output_type": "execute_result",
          "data": {
            "text/plain": [
              "array([0, 5, 3, 5, 4, 5, 1, 2, 8, 4, 0, 1, 2, 4, 3, 7, 3, 6, 2, 9, 7, 9,\n",
              "       2, 0, 4, 0, 5, 7, 2, 5, 7, 2, 8, 5, 0, 0, 6, 2, 1, 7, 0, 6, 5, 9,\n",
              "       7, 1, 8, 0, 0, 6, 0, 2, 9, 4, 7, 7, 5, 2, 2, 0, 9, 8, 0, 6, 7, 4,\n",
              "       9, 7, 3, 7, 8, 1, 2, 6, 5, 0, 1, 3, 0, 9, 5, 9, 6, 6, 6, 9, 7, 8,\n",
              "       6, 2, 2, 9, 5, 8, 7, 8, 2, 8, 0, 1, 5, 8, 8, 8, 9, 2, 7, 5, 2, 5,\n",
              "       5, 5, 5, 9, 8, 8, 6, 7, 9, 6, 0, 1, 7, 3, 9, 5, 7, 8, 9, 1, 9, 7,\n",
              "       9, 3, 0, 7, 9, 5, 4, 5, 8, 8, 1, 1, 7, 8, 5, 2, 0, 2, 1, 6, 4, 0,\n",
              "       6, 1, 7, 8, 7, 1, 8, 5, 1, 8, 1, 0, 9, 1, 7, 4, 1, 9, 1, 1, 0, 9,\n",
              "       8, 0, 2, 4, 6, 1, 9, 6, 6, 2, 5, 1, 2, 9, 1, 0, 3, 1, 5, 0, 8, 8,\n",
              "       9, 2, 0, 8, 5, 5, 3, 3, 2, 7, 0, 5, 5, 2, 9, 6, 4, 9, 3, 4, 5, 8,\n",
              "       0, 9, 8, 5, 8, 7, 0, 0, 3, 6, 6, 7, 7, 8, 6, 0, 1, 7, 4, 3, 6, 5,\n",
              "       2, 3, 5, 5, 3, 1, 3, 3, 5, 4, 7, 1, 6, 3, 4, 3, 7, 8, 0, 1, 5, 2,\n",
              "       7, 1, 1, 8, 5, 8, 8, 0, 2, 0, 7, 2, 2, 2, 3, 5, 3, 0, 0, 7, 5, 0,\n",
              "       0, 7, 1, 8, 4, 5, 9, 1, 8, 1, 8, 8, 4, 4, 3, 1, 7, 2, 9, 2, 3, 7,\n",
              "       2, 9, 6, 5, 7, 0, 7, 9, 6, 1, 2, 0, 7, 3, 4, 7, 8, 5, 4, 6, 3, 0,\n",
              "       5, 0, 3, 6, 4, 8, 1, 0, 9, 8, 1, 6, 6, 8, 1, 2, 5, 4, 5, 1, 1, 8,\n",
              "       3, 0, 4, 2, 7, 6, 0, 7, 1, 2, 4, 9, 6, 8, 3, 7, 7, 2, 1, 1, 9, 0,\n",
              "       7, 2, 1, 8, 7, 3, 7, 0, 4, 9, 4, 8, 5, 3, 0, 1, 6, 4, 3, 9, 4, 1,\n",
              "       6, 3, 5, 9, 0, 1, 7, 6, 3, 2, 1, 1, 3, 3, 1, 7, 9, 9, 9, 3, 2, 5,\n",
              "       2, 0, 2, 1, 4, 1, 0, 5, 0, 2, 2, 5, 2, 8, 6, 9, 4, 6, 0, 2, 8, 2,\n",
              "       7, 6, 0, 2, 7, 8, 2, 4, 9, 4, 1, 4, 4, 5, 2, 4, 5, 2, 1, 2, 1, 4,\n",
              "       2, 9, 1, 6, 3, 1, 8, 8, 9, 5, 9, 3, 1, 0, 1, 8, 2, 6, 3, 4, 9, 0,\n",
              "       4, 0, 8, 3, 6, 7, 9, 5, 3, 9, 4, 6, 3, 6, 8, 1, 9, 3, 4, 5, 4, 8,\n",
              "       1, 1, 9, 2, 9, 3, 7, 8, 7, 1, 1, 4, 3, 1, 2, 1, 3, 6, 6, 8, 1, 1,\n",
              "       6, 8, 6, 8, 2, 9, 2, 4, 4, 1, 3, 8, 9, 9, 9, 2, 6, 3, 2, 9, 4, 2,\n",
              "       3, 4, 9, 7, 2, 5, 6, 4, 8, 8, 1, 3, 6, 4, 3, 3, 7, 2, 4, 6, 9, 3,\n",
              "       7, 3, 8, 4, 9, 7, 6, 9, 3, 3, 6, 7, 7, 6, 2, 4, 8, 7, 5, 3, 2, 2,\n",
              "       2, 3, 4, 4, 3, 4, 5, 2, 5, 9, 0, 6, 3, 1, 5, 0, 5, 1, 3, 4, 4, 4,\n",
              "       2, 9, 0, 5, 6, 9, 5, 3, 8, 5, 4, 6, 7, 9, 7, 9, 4, 6, 0, 9, 3, 2,\n",
              "       3, 9, 5, 9, 3, 0, 4, 9, 5, 8, 5, 0, 0, 9, 4, 6, 1, 0, 4, 6, 8, 9,\n",
              "       7, 6, 8, 3, 7, 5, 8, 1, 0, 8, 3, 1, 2, 5, 4, 2, 0, 4, 0, 1, 0, 8,\n",
              "       7, 1, 9, 6, 9, 0, 4, 7, 9, 9, 9, 6, 9, 6, 9, 8, 8, 2, 4, 4, 6, 6,\n",
              "       1, 5, 9, 8, 9, 8, 4, 9, 1, 5, 7, 0, 2, 2, 5, 0, 6, 0, 9, 5, 8, 8,\n",
              "       7, 0, 7, 4, 5, 7, 9, 6, 0, 7, 3, 7, 6, 1, 4, 2, 3, 4, 8, 2, 5, 4,\n",
              "       6, 5, 4, 5, 3, 1, 9, 3, 8, 3, 5, 0, 8, 5, 4, 9, 6, 0, 7, 8, 1, 6,\n",
              "       2, 1, 7, 4, 8, 8, 7, 9, 7, 3, 1, 3, 4, 0, 7, 0, 8, 7, 6, 8, 1, 3,\n",
              "       0, 9, 0, 1, 6, 4, 8, 1])"
            ]
          },
          "metadata": {},
          "execution_count": 21
        }
      ]
    },
    {
      "cell_type": "code",
      "source": [
        "model = keras.Sequential([\n",
        "    keras.layers.Dense(100, input_shape=(1024,), activation='relu'),\n",
        "    keras.layers.Dense(10, activation='sigmoid')\n",
        "])\n",
        "\n",
        "model.compile(optimizer='adam',\n",
        "              loss='sparse_categorical_crossentropy',\n",
        "              metrics=['accuracy'])\n",
        "\n",
        "model.fit(X_train_flattened, y_train, epochs=20)"
      ],
      "metadata": {
        "colab": {
          "base_uri": "https://localhost:8080/"
        },
        "id": "R6GtZa3hdkW_",
        "outputId": "509304e0-2c53-48f3-895d-5ec1f32d8045"
      },
      "execution_count": 22,
      "outputs": [
        {
          "output_type": "stream",
          "name": "stdout",
          "text": [
            "Epoch 1/20\n",
            "25/25 [==============================] - 1s 4ms/step - loss: 1.2742 - accuracy: 0.6500\n",
            "Epoch 2/20\n",
            "25/25 [==============================] - 0s 4ms/step - loss: 0.3692 - accuracy: 0.9175\n",
            "Epoch 3/20\n",
            "25/25 [==============================] - 0s 4ms/step - loss: 0.2104 - accuracy: 0.9388\n",
            "Epoch 4/20\n",
            "25/25 [==============================] - 0s 4ms/step - loss: 0.1579 - accuracy: 0.9650\n",
            "Epoch 5/20\n",
            "25/25 [==============================] - 0s 4ms/step - loss: 0.1203 - accuracy: 0.9700\n",
            "Epoch 6/20\n",
            "25/25 [==============================] - 0s 4ms/step - loss: 0.0812 - accuracy: 0.9875\n",
            "Epoch 7/20\n",
            "25/25 [==============================] - 0s 4ms/step - loss: 0.0600 - accuracy: 0.9975\n",
            "Epoch 8/20\n",
            "25/25 [==============================] - 0s 4ms/step - loss: 0.0474 - accuracy: 0.9975\n",
            "Epoch 9/20\n",
            "25/25 [==============================] - 0s 4ms/step - loss: 0.0383 - accuracy: 0.9987\n",
            "Epoch 10/20\n",
            "25/25 [==============================] - 0s 4ms/step - loss: 0.0368 - accuracy: 0.9987\n",
            "Epoch 11/20\n",
            "25/25 [==============================] - 0s 4ms/step - loss: 0.0309 - accuracy: 0.9975\n",
            "Epoch 12/20\n",
            "25/25 [==============================] - 0s 4ms/step - loss: 0.0244 - accuracy: 1.0000\n",
            "Epoch 13/20\n",
            "25/25 [==============================] - 0s 3ms/step - loss: 0.0195 - accuracy: 1.0000\n",
            "Epoch 14/20\n",
            "25/25 [==============================] - 0s 4ms/step - loss: 0.0185 - accuracy: 1.0000\n",
            "Epoch 15/20\n",
            "25/25 [==============================] - 0s 4ms/step - loss: 0.0166 - accuracy: 1.0000\n",
            "Epoch 16/20\n",
            "25/25 [==============================] - 0s 4ms/step - loss: 0.0145 - accuracy: 1.0000\n",
            "Epoch 17/20\n",
            "25/25 [==============================] - 0s 4ms/step - loss: 0.0124 - accuracy: 1.0000\n",
            "Epoch 18/20\n",
            "25/25 [==============================] - 0s 4ms/step - loss: 0.0112 - accuracy: 1.0000\n",
            "Epoch 19/20\n",
            "25/25 [==============================] - 0s 3ms/step - loss: 0.0101 - accuracy: 1.0000\n",
            "Epoch 20/20\n",
            "25/25 [==============================] - 0s 4ms/step - loss: 0.0095 - accuracy: 1.0000\n"
          ]
        },
        {
          "output_type": "execute_result",
          "data": {
            "text/plain": [
              "<keras.callbacks.History at 0x7f16746e3b80>"
            ]
          },
          "metadata": {},
          "execution_count": 22
        }
      ]
    },
    {
      "cell_type": "code",
      "source": [
        "y_test = np.array(y_test)\n",
        "\n",
        "y_test = y_test.astype(int)\n",
        "y_test"
      ],
      "metadata": {
        "colab": {
          "base_uri": "https://localhost:8080/"
        },
        "id": "Jl3JUeZ2dnoW",
        "outputId": "231e3f44-edeb-4014-936d-b58abb1e0ceb"
      },
      "execution_count": 23,
      "outputs": [
        {
          "output_type": "execute_result",
          "data": {
            "text/plain": [
              "array([5, 9, 9, 3, 8, 3, 3, 5, 4, 1, 4, 0, 3, 2, 2, 4, 6, 4, 9, 7, 5, 1,\n",
              "       7, 5, 6, 6, 1, 2, 2, 2, 7, 1, 3, 8, 7, 1, 3, 5, 2, 0, 7, 0, 7, 2,\n",
              "       6, 6, 2, 3, 8, 4, 5, 4, 6, 5, 0, 0, 3, 0, 6, 4, 6, 0, 5, 6, 3, 3,\n",
              "       3, 4, 0, 5, 1, 8, 5, 9, 6, 6, 3, 0, 5, 7, 3, 0, 6, 0, 7, 5, 2, 9,\n",
              "       9, 7, 7, 8, 5, 6, 9, 8, 9, 0, 0, 4, 9, 7, 2, 6, 3, 3, 5, 2, 1, 2,\n",
              "       5, 4, 2, 4, 0, 8, 1, 2, 5, 6, 4, 8, 9, 6, 6, 5, 5, 8, 4, 4, 5, 4,\n",
              "       6, 2, 5, 0, 1, 6, 0, 0, 0, 6, 9, 6, 4, 2, 4, 6, 4, 7, 3, 1, 2, 8,\n",
              "       2, 8, 7, 3, 0, 4, 5, 9, 3, 3, 4, 3, 6, 3, 7, 7, 7, 8, 1, 2, 8, 7,\n",
              "       6, 6, 4, 3, 8, 3, 7, 5, 4, 1, 7, 7, 2, 9, 2, 4, 3, 1, 6, 8, 7, 6,\n",
              "       3, 0])"
            ]
          },
          "metadata": {},
          "execution_count": 23
        }
      ]
    },
    {
      "cell_type": "code",
      "source": [
        "model.evaluate(X_test_flattened,y_test)"
      ],
      "metadata": {
        "colab": {
          "base_uri": "https://localhost:8080/"
        },
        "id": "oCS0fdJEdqAu",
        "outputId": "b4db9233-ac39-453c-e531-5164043b27ca"
      },
      "execution_count": 24,
      "outputs": [
        {
          "output_type": "stream",
          "name": "stdout",
          "text": [
            "7/7 [==============================] - 0s 3ms/step - loss: 0.0719 - accuracy: 0.9850\n"
          ]
        },
        {
          "output_type": "execute_result",
          "data": {
            "text/plain": [
              "[0.07188303768634796, 0.9850000143051147]"
            ]
          },
          "metadata": {},
          "execution_count": 24
        }
      ]
    },
    {
      "cell_type": "code",
      "source": [
        "plt.matshow(X_test[7])"
      ],
      "metadata": {
        "colab": {
          "base_uri": "https://localhost:8080/",
          "height": 455
        },
        "id": "n5vj0brDdrdl",
        "outputId": "7410015d-0540-4edf-cafa-0676a20758ca"
      },
      "execution_count": 25,
      "outputs": [
        {
          "output_type": "execute_result",
          "data": {
            "text/plain": [
              "<matplotlib.image.AxesImage at 0x7f166e72f910>"
            ]
          },
          "metadata": {},
          "execution_count": 25
        },
        {
          "output_type": "display_data",
          "data": {
            "text/plain": [
              "<Figure size 480x480 with 1 Axes>"
            ],
            "image/png": "[encoded data removed]"
          },
          "metadata": {}
        }
      ]
    },
    {
      "cell_type": "code",
      "source": [
        "model.predict(X_test_flattened)"
      ],
      "metadata": {
        "colab": {
          "base_uri": "https://localhost:8080/"
        },
        "id": "paoJ2nt4dt0u",
        "outputId": "a69bf010-cf90-4930-dcfe-35cba98f09e1"
      },
      "execution_count": 26,
      "outputs": [
        {
          "output_type": "stream",
          "name": "stdout",
          "text": [
            "7/7 [==============================] - 0s 3ms/step\n"
          ]
        },
        {
          "output_type": "execute_result",
          "data": {
            "text/plain": [
              "array([[0.00180116, 0.00196598, 0.6668531 , ..., 0.9195722 , 0.7423619 ,\n",
              "        0.00471782],\n",
              "       [0.41025114, 0.63400793, 0.02499477, ..., 0.02585363, 0.850018  ,\n",
              "        0.9999243 ],\n",
              "       [0.3428556 , 0.34261143, 0.05968051, ..., 0.0527967 , 0.95472133,\n",
              "        0.99843067],\n",
              "       ...,\n",
              "       [0.17662409, 0.10884117, 0.10045867, ..., 0.03923067, 0.34193674,\n",
              "        0.7153324 ],\n",
              "       [0.03161445, 0.16836719, 0.9741636 , ..., 0.95156056, 0.00118934,\n",
              "        0.08050323],\n",
              "       [0.99997723, 0.8832054 , 0.76250696, ..., 0.8970225 , 0.9660715 ,\n",
              "        0.21208261]], dtype=float32)"
            ]
          },
          "metadata": {},
          "execution_count": 26
        }
      ]
    },
    {
      "cell_type": "code",
      "source": [
        "y_predicted = model.predict(X_test_flattened)\n",
        "y_predicted[0]"
      ],
      "metadata": {
        "colab": {
          "base_uri": "https://localhost:8080/"
        },
        "id": "TIBk68tidvro",
        "outputId": "77f4732d-1037-4cb6-ac9f-75ac577a4c96"
      },
      "execution_count": 27,
      "outputs": [
        {
          "output_type": "stream",
          "name": "stdout",
          "text": [
            "7/7 [==============================] - 0s 2ms/step\n"
          ]
        },
        {
          "output_type": "execute_result",
          "data": {
            "text/plain": [
              "array([0.00180116, 0.00196598, 0.6668531 , 0.44507232, 0.9375327 ,\n",
              "       0.9999727 , 0.00172091, 0.9195722 , 0.7423619 , 0.00471782],\n",
              "      dtype=float32)"
            ]
          },
          "metadata": {},
          "execution_count": 27
        }
      ]
    },
    {
      "cell_type": "code",
      "source": [
        "np.argmax(y_predicted[0])"
      ],
      "metadata": {
        "colab": {
          "base_uri": "https://localhost:8080/"
        },
        "id": "A4-wK6KZdzI4",
        "outputId": "c6d2ebc0-c596-4a46-c5d2-249744af558d"
      },
      "execution_count": 28,
      "outputs": [
        {
          "output_type": "execute_result",
          "data": {
            "text/plain": [
              "5"
            ]
          },
          "metadata": {},
          "execution_count": 28
        }
      ]
    },
    {
      "cell_type": "code",
      "source": [
        "y_predicted_labels=[np.argmax(i) for i in y_predicted]\n",
        "y_predicted_labels[0]"
      ],
      "metadata": {
        "colab": {
          "base_uri": "https://localhost:8080/"
        },
        "id": "lnGAu7GRd0pC",
        "outputId": "c55312d1-3679-4750-faf3-a4e80b5ccb1c"
      },
      "execution_count": 29,
      "outputs": [
        {
          "output_type": "execute_result",
          "data": {
            "text/plain": [
              "5"
            ]
          },
          "metadata": {},
          "execution_count": 29
        }
      ]
    },
    {
      "cell_type": "code",
      "source": [
        "y_test"
      ],
      "metadata": {
        "colab": {
          "base_uri": "https://localhost:8080/"
        },
        "id": "1W0S1-GQd2BS",
        "outputId": "ccd09e8f-911b-4802-f670-e82c7eb51a9c"
      },
      "execution_count": 30,
      "outputs": [
        {
          "output_type": "execute_result",
          "data": {
            "text/plain": [
              "array([5, 9, 9, 3, 8, 3, 3, 5, 4, 1, 4, 0, 3, 2, 2, 4, 6, 4, 9, 7, 5, 1,\n",
              "       7, 5, 6, 6, 1, 2, 2, 2, 7, 1, 3, 8, 7, 1, 3, 5, 2, 0, 7, 0, 7, 2,\n",
              "       6, 6, 2, 3, 8, 4, 5, 4, 6, 5, 0, 0, 3, 0, 6, 4, 6, 0, 5, 6, 3, 3,\n",
              "       3, 4, 0, 5, 1, 8, 5, 9, 6, 6, 3, 0, 5, 7, 3, 0, 6, 0, 7, 5, 2, 9,\n",
              "       9, 7, 7, 8, 5, 6, 9, 8, 9, 0, 0, 4, 9, 7, 2, 6, 3, 3, 5, 2, 1, 2,\n",
              "       5, 4, 2, 4, 0, 8, 1, 2, 5, 6, 4, 8, 9, 6, 6, 5, 5, 8, 4, 4, 5, 4,\n",
              "       6, 2, 5, 0, 1, 6, 0, 0, 0, 6, 9, 6, 4, 2, 4, 6, 4, 7, 3, 1, 2, 8,\n",
              "       2, 8, 7, 3, 0, 4, 5, 9, 3, 3, 4, 3, 6, 3, 7, 7, 7, 8, 1, 2, 8, 7,\n",
              "       6, 6, 4, 3, 8, 3, 7, 5, 4, 1, 7, 7, 2, 9, 2, 4, 3, 1, 6, 8, 7, 6,\n",
              "       3, 0])"
            ]
          },
          "metadata": {},
          "execution_count": 30
        }
      ]
    },
    {
      "cell_type": "code",
      "source": [
        "cm=tf.math.confusion_matrix(labels=y_test,predictions=y_predicted_labels)\n",
        "cm"
      ],
      "metadata": {
        "colab": {
          "base_uri": "https://localhost:8080/"
        },
        "id": "AlBnt-Otd4ZW",
        "outputId": "b55e5ca7-c9e2-45fa-8ae2-a5e9e53d4faf"
      },
      "execution_count": 31,
      "outputs": [
        {
          "output_type": "execute_result",
          "data": {
            "text/plain": [
              "<tf.Tensor: shape=(10, 10), dtype=int32, numpy=\n",
              "array([[20,  0,  0,  0,  0,  0,  0,  0,  0,  0],\n",
              "       [ 0, 12,  0,  0,  0,  0,  1,  0,  0,  0],\n",
              "       [ 0,  0, 21,  0,  0,  0,  0,  0,  0,  0],\n",
              "       [ 0,  0,  0, 25,  0,  0,  0,  0,  0,  0],\n",
              "       [ 0,  0,  0,  0, 23,  0,  0,  0,  0,  0],\n",
              "       [ 0,  0,  0,  0,  0, 22,  0,  0,  0,  0],\n",
              "       [ 0,  0,  0,  0,  0,  0, 26,  0,  0,  1],\n",
              "       [ 0,  0,  0,  0,  0,  0,  0, 21,  0,  0],\n",
              "       [ 0,  0,  0,  0,  0,  0,  0,  0, 15,  0],\n",
              "       [ 0,  0,  0,  0,  0,  0,  0,  0,  1, 12]], dtype=int32)>"
            ]
          },
          "metadata": {},
          "execution_count": 31
        }
      ]
    },
    {
      "cell_type": "code",
      "source": [
        "import seaborn as sn\n",
        "plt.figure(figsize = (10,7))\n",
        "sn.heatmap(cm, annot=True, fmt='d')\n",
        "plt.xlabel('Predicted')\n",
        "plt.ylabel('Truth')"
      ],
      "metadata": {
        "colab": {
          "base_uri": "https://localhost:8080/",
          "height": 637
        },
        "id": "06opSjSId7j_",
        "outputId": "67963c81-a8ff-43cb-dadb-4720d0cb2a9d"
      },
      "execution_count": 32,
      "outputs": [
        {
          "output_type": "execute_result",
          "data": {
            "text/plain": [
              "Text(95.72222222222221, 0.5, 'Truth')"
            ]
          },
          "metadata": {},
          "execution_count": 32
        },
        {
          "output_type": "display_data",
          "data": {
            "text/plain": [
              "<Figure size 1000x700 with 2 Axes>"
            ],
            "image/png": "[encoded data removed]"
          },
          "metadata": {}
        }
      ]
    }
  ]
}